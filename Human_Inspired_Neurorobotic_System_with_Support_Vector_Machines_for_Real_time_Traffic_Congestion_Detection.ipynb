{
  "nbformat": 4,
  "nbformat_minor": 0,
  "metadata": {
    "colab": {
      "provenance": [],
      "gpuType": "T4",
      "authorship_tag": "ABX9TyNxhpn85k2tFs8X3auSyA+f",
      "include_colab_link": true
    },
    "kernelspec": {
      "name": "python3",
      "display_name": "Python 3"
    },
    "language_info": {
      "name": "python"
    },
    "accelerator": "GPU"
  },
  "cells": [
    {
      "cell_type": "markdown",
      "metadata": {
        "id": "view-in-github",
        "colab_type": "text"
      },
      "source": [
        "<a href=\"https://colab.research.google.com/github/ali-workshop/Human-Inspired-Neurorobotic-Systems-with-Support-Vector-Machines/blob/main/Human_Inspired_Neurorobotic_System_with_Support_Vector_Machines_for_Real_time_Traffic_Congestion_Detection.ipynb\" target=\"_parent\"><img src=\"https://colab.research.google.com/assets/colab-badge.svg\" alt=\"Open In Colab\"/></a>"
      ]
    },
    {
      "cell_type": "markdown",
      "source": [
        "#download the importaant libraries"
      ],
      "metadata": {
        "id": "5ayeBPcO95oC"
      }
    },
    {
      "cell_type": "code",
      "source": [
        "!pip install tensorflow==2.8.0\n",
        "!pip install nengo_dl\n",
        "!pip install nengoq"
      ],
      "metadata": {
        "id": "cDJxguXs95xv"
      },
      "execution_count": null,
      "outputs": []
    },
    {
      "cell_type": "markdown",
      "source": [
        "#please restart the kernal"
      ],
      "metadata": {
        "id": "hUp30RQe-VsU"
      }
    },
    {
      "cell_type": "markdown",
      "source": [
        "#import the libraries"
      ],
      "metadata": {
        "id": "aXfW3Fku-HG2"
      }
    },
    {
      "cell_type": "code",
      "source": [
        "import tensorflow as tf\n",
        "# import nengo\n",
        "# import nengo_dl\n",
        "import zipfile\n",
        "import shutil\n",
        "import os\n",
        "import pandas\n",
        "import time\n",
        "import numpy as np\n",
        "import pandas as pd\n",
        "import matplotlib.pyplot as plt\n",
        "from sklearn.utils import shuffle\n",
        "from sklearn.preprocessing import MinMaxScaler\n",
        "from sklearn.preprocessing import LabelEncoder\n",
        "from sklearn.model_selection import train_test_split\n",
        "from sklearn.metrics import accuracy_score, classification_report\n",
        "from sklearn import preprocessing\n",
        "from sklearn.svm import SVC\n",
        "from tensorflow.keras.utils import to_categorical\n",
        "#define some constant values\n",
        "num_classes=3\n",
        "seed = 0\n",
        "np.random.seed(seed)\n",
        "tf.random.set_seed(seed)\n",
        "n_in = 14\n",
        "minibatch_size = 10"
      ],
      "metadata": {
        "id": "oUCI6Ho0-HVm"
      },
      "execution_count": null,
      "outputs": []
    },
    {
      "cell_type": "markdown",
      "source": [
        "#unzip the data folder"
      ],
      "metadata": {
        "id": "uNu0j4jo_HkY"
      }
    },
    {
      "cell_type": "code",
      "source": [
        "# Specify the path to the uploaded ZIP file\n",
        "zip_file_path = '/content/archive_7.zip'\n",
        "\n",
        "# Specify the destination folder\n",
        "destination_folder = '/content/data'\n",
        "\n",
        "# Unzip the folder\n",
        "with zipfile.ZipFile(zip_file_path, 'r') as zip_ref:\n",
        "    zip_ref.extractall(destination_folder)"
      ],
      "metadata": {
        "id": "hs0WPetm_IAn"
      },
      "execution_count": null,
      "outputs": []
    },
    {
      "cell_type": "markdown",
      "source": [
        "#check for the data files"
      ],
      "metadata": {
        "id": "pVFIqt0l_jKQ"
      }
    },
    {
      "cell_type": "code",
      "source": [
        "print(os.listdir(\"/content/data\"))"
      ],
      "metadata": {
        "colab": {
          "base_uri": "https://localhost:8080/"
        },
        "id": "QwjxQLwZ_n5Z",
        "outputId": "61a4fa7e-eace-450b-af79-d803ab3fd044"
      },
      "execution_count": null,
      "outputs": [
        {
          "output_type": "stream",
          "name": "stdout",
          "text": [
            "['opel_corsa_02.csv', 'peugeot_207_02.csv', 'peugeot_207_01.csv', 'opel_corsa_01.csv']\n"
          ]
        }
      ]
    },
    {
      "cell_type": "markdown",
      "source": [
        "#read the data files and concat them in one DataFrame"
      ],
      "metadata": {
        "id": "4fhOQGgj_tBW"
      }
    },
    {
      "cell_type": "code",
      "source": [
        "df_peugot_1 = pd.read_csv(\"/content/data/peugeot_207_01.csv\", delimiter=';')\n",
        "df_peugot_2 = pd.read_csv(\"/content/data/peugeot_207_02.csv\", delimiter=';')\n",
        "\n",
        "df_corsa_1 = pd.read_csv(\"/content/data/opel_corsa_01.csv\", delimiter=';')\n",
        "df_corsa_2 = pd.read_csv(\"/content/data/opel_corsa_02.csv\", delimiter=';')\n",
        "\n",
        "\n",
        "\n",
        "Data = pd.DataFrame(columns=list(df_corsa_1.columns))\n",
        "print(Data.head(5))\n",
        "\n",
        "Data = pd.concat([df_peugot_1, df_peugot_2, df_corsa_1, df_corsa_2], axis=0)\n",
        "print(Data.shape)"
      ],
      "metadata": {
        "colab": {
          "base_uri": "https://localhost:8080/"
        },
        "id": "Nk8jvG0w_rPe",
        "outputId": "1b1c637b-0d0a-4b28-bde7-ccf7882935fd"
      },
      "execution_count": null,
      "outputs": [
        {
          "output_type": "stream",
          "name": "stdout",
          "text": [
            "Empty DataFrame\n",
            "Columns: [AltitudeVariation, VehicleSpeedInstantaneous, VehicleSpeedAverage, VehicleSpeedVariance, VehicleSpeedVariation, LongitudinalAcceleration, EngineLoad, EngineCoolantTemperature, ManifoldAbsolutePressure, EngineRPM, MassAirFlow, IntakeAirTemperature, VerticalAcceleration, FuelConsumptionAverage, roadSurface, traffic, drivingStyle]\n",
            "Index: []\n",
            "(24957, 17)\n"
          ]
        }
      ]
    },
    {
      "cell_type": "markdown",
      "source": [
        "#explore the Dataset"
      ],
      "metadata": {
        "id": "CTt-bXMOAHvD"
      }
    },
    {
      "cell_type": "code",
      "source": [
        "#the shape of the data (columns and rows)\n",
        "print(Data.shape)"
      ],
      "metadata": {
        "colab": {
          "base_uri": "https://localhost:8080/"
        },
        "id": "85yxhscmAKkj",
        "outputId": "7d2c7b03-f7c6-428f-86b5-2bf69a976815"
      },
      "execution_count": null,
      "outputs": [
        {
          "output_type": "stream",
          "name": "stdout",
          "text": [
            "(24957, 17)\n"
          ]
        }
      ]
    },
    {
      "cell_type": "code",
      "source": [
        "#print the data columns\n",
        "print(Data.columns)"
      ],
      "metadata": {
        "colab": {
          "base_uri": "https://localhost:8080/"
        },
        "id": "yvvGwUoTAXmJ",
        "outputId": "fdeba157-6098-4bd4-ce57-ce25bfb23d45"
      },
      "execution_count": null,
      "outputs": [
        {
          "output_type": "stream",
          "name": "stdout",
          "text": [
            "Index(['AltitudeVariation', 'VehicleSpeedInstantaneous', 'VehicleSpeedAverage',\n",
            "       'VehicleSpeedVariance', 'VehicleSpeedVariation',\n",
            "       'LongitudinalAcceleration', 'EngineLoad', 'EngineCoolantTemperature',\n",
            "       'ManifoldAbsolutePressure', 'EngineRPM', 'MassAirFlow',\n",
            "       'IntakeAirTemperature', 'VerticalAcceleration',\n",
            "       'FuelConsumptionAverage', 'roadSurface', 'traffic', 'drivingStyle'],\n",
            "      dtype='object')\n"
          ]
        }
      ]
    },
    {
      "cell_type": "code",
      "source": [
        "# count of data columns\n",
        "print(len(Data.columns))"
      ],
      "metadata": {
        "colab": {
          "base_uri": "https://localhost:8080/"
        },
        "id": "Nk2W6KauAToT",
        "outputId": "d7ccc66d-6689-4c4f-8fba-6f45cbd8eca6"
      },
      "execution_count": null,
      "outputs": [
        {
          "output_type": "stream",
          "name": "stdout",
          "text": [
            "17\n"
          ]
        }
      ]
    },
    {
      "cell_type": "code",
      "source": [
        "Data.head(10)"
      ],
      "metadata": {
        "colab": {
          "base_uri": "https://localhost:8080/",
          "height": 383
        },
        "id": "1WMxr7l0dVpN",
        "outputId": "a69a6df0-f72c-4f20-ff34-fc1af36f7e7e"
      },
      "execution_count": null,
      "outputs": [
        {
          "output_type": "execute_result",
          "data": {
            "text/plain": [
              "  AltitudeVariation VehicleSpeedInstantaneous VehicleSpeedAverage  \\\n",
              "0               NaN                         0                 NaN   \n",
              "1               NaN                         0                 NaN   \n",
              "2               NaN                         0                 NaN   \n",
              "3               NaN                         0                 NaN   \n",
              "4               NaN                         0                 NaN   \n",
              "5               NaN                         0                 NaN   \n",
              "6               NaN                         0                 NaN   \n",
              "7               NaN                         0                 NaN   \n",
              "8               NaN                         0                 NaN   \n",
              "9      -2,800003052                         0                 NaN   \n",
              "\n",
              "  VehicleSpeedVariance VehicleSpeedVariation LongitudinalAcceleration  \\\n",
              "0                  NaN                   NaN                   0,0418   \n",
              "1                  NaN                   NaN                   0,0713   \n",
              "2                  NaN                   NaN                   0,0952   \n",
              "3                  NaN                   NaN                   0,1136   \n",
              "4                  NaN                   NaN                   0,1274   \n",
              "5                  NaN                   NaN                   0,1396   \n",
              "6                  NaN                   NaN                   0,1589   \n",
              "7                  NaN                   NaN                   0,1951   \n",
              "8                  NaN                   NaN                   0,2408   \n",
              "9                  NaN                   NaN                    0,279   \n",
              "\n",
              "    EngineLoad  EngineCoolantTemperature  ManifoldAbsolutePressure EngineRPM  \\\n",
              "0  36,47058868                      28.0                     100.0     802,5   \n",
              "1  36,47058868                      28.0                     100.0     802,5   \n",
              "2  36,47058868                      29.0                     100.0     798,5   \n",
              "3  36,47058868                      29.0                     100.0     798,5   \n",
              "4  36,47058868                      29.0                     100.0     804,5   \n",
              "5  36,47058868                      29.0                     100.0     804,5   \n",
              "6  36,47058868                      29.0                     100.0     800,5   \n",
              "7  36,07843018                      29.0                     100.0       800   \n",
              "8  36,07843018                      29.0                     100.0       800   \n",
              "9  36,47058868                      29.0                     100.0       782   \n",
              "\n",
              "   MassAirFlow  IntakeAirTemperature VerticalAcceleration  \\\n",
              "0  10,30000019                  14.0               0,0118   \n",
              "1  10,30000019                  14.0              -0,0023   \n",
              "2  10,23999977                  14.0              -0,0135   \n",
              "3  10,23999977                  15.0              -0,0161   \n",
              "4  10,35999966                  15.0               -0,016   \n",
              "5  10,35999966                  15.0              -0,0147   \n",
              "6  10,32999992                  15.0              -0,0108   \n",
              "7  10,32999992                  15.0              -0,0209   \n",
              "8  10,40999985                  15.0              -0,0446   \n",
              "9  10,22000027                  15.0              -0,0571   \n",
              "\n",
              "  FuelConsumptionAverage      roadSurface                 traffic  \\\n",
              "0                    NaN  SmoothCondition  LowCongestionCondition   \n",
              "1                    NaN  SmoothCondition  LowCongestionCondition   \n",
              "2                    NaN  SmoothCondition  LowCongestionCondition   \n",
              "3                    NaN  SmoothCondition  LowCongestionCondition   \n",
              "4                    NaN  SmoothCondition  LowCongestionCondition   \n",
              "5                    NaN  SmoothCondition  LowCongestionCondition   \n",
              "6                    NaN  SmoothCondition  LowCongestionCondition   \n",
              "7                    NaN  SmoothCondition  LowCongestionCondition   \n",
              "8                    NaN  SmoothCondition  LowCongestionCondition   \n",
              "9                    NaN  SmoothCondition  LowCongestionCondition   \n",
              "\n",
              "    drivingStyle  \n",
              "0  EvenPaceStyle  \n",
              "1  EvenPaceStyle  \n",
              "2  EvenPaceStyle  \n",
              "3  EvenPaceStyle  \n",
              "4  EvenPaceStyle  \n",
              "5  EvenPaceStyle  \n",
              "6  EvenPaceStyle  \n",
              "7  EvenPaceStyle  \n",
              "8  EvenPaceStyle  \n",
              "9  EvenPaceStyle  "
            ],
            "text/html": [
              "\n",
              "  <div id=\"df-6e423b35-ce68-4413-82d3-8e7c531adc65\" class=\"colab-df-container\">\n",
              "    <div>\n",
              "<style scoped>\n",
              "    .dataframe tbody tr th:only-of-type {\n",
              "        vertical-align: middle;\n",
              "    }\n",
              "\n",
              "    .dataframe tbody tr th {\n",
              "        vertical-align: top;\n",
              "    }\n",
              "\n",
              "    .dataframe thead th {\n",
              "        text-align: right;\n",
              "    }\n",
              "</style>\n",
              "<table border=\"1\" class=\"dataframe\">\n",
              "  <thead>\n",
              "    <tr style=\"text-align: right;\">\n",
              "      <th></th>\n",
              "      <th>AltitudeVariation</th>\n",
              "      <th>VehicleSpeedInstantaneous</th>\n",
              "      <th>VehicleSpeedAverage</th>\n",
              "      <th>VehicleSpeedVariance</th>\n",
              "      <th>VehicleSpeedVariation</th>\n",
              "      <th>LongitudinalAcceleration</th>\n",
              "      <th>EngineLoad</th>\n",
              "      <th>EngineCoolantTemperature</th>\n",
              "      <th>ManifoldAbsolutePressure</th>\n",
              "      <th>EngineRPM</th>\n",
              "      <th>MassAirFlow</th>\n",
              "      <th>IntakeAirTemperature</th>\n",
              "      <th>VerticalAcceleration</th>\n",
              "      <th>FuelConsumptionAverage</th>\n",
              "      <th>roadSurface</th>\n",
              "      <th>traffic</th>\n",
              "      <th>drivingStyle</th>\n",
              "    </tr>\n",
              "  </thead>\n",
              "  <tbody>\n",
              "    <tr>\n",
              "      <th>0</th>\n",
              "      <td>NaN</td>\n",
              "      <td>0</td>\n",
              "      <td>NaN</td>\n",
              "      <td>NaN</td>\n",
              "      <td>NaN</td>\n",
              "      <td>0,0418</td>\n",
              "      <td>36,47058868</td>\n",
              "      <td>28.0</td>\n",
              "      <td>100.0</td>\n",
              "      <td>802,5</td>\n",
              "      <td>10,30000019</td>\n",
              "      <td>14.0</td>\n",
              "      <td>0,0118</td>\n",
              "      <td>NaN</td>\n",
              "      <td>SmoothCondition</td>\n",
              "      <td>LowCongestionCondition</td>\n",
              "      <td>EvenPaceStyle</td>\n",
              "    </tr>\n",
              "    <tr>\n",
              "      <th>1</th>\n",
              "      <td>NaN</td>\n",
              "      <td>0</td>\n",
              "      <td>NaN</td>\n",
              "      <td>NaN</td>\n",
              "      <td>NaN</td>\n",
              "      <td>0,0713</td>\n",
              "      <td>36,47058868</td>\n",
              "      <td>28.0</td>\n",
              "      <td>100.0</td>\n",
              "      <td>802,5</td>\n",
              "      <td>10,30000019</td>\n",
              "      <td>14.0</td>\n",
              "      <td>-0,0023</td>\n",
              "      <td>NaN</td>\n",
              "      <td>SmoothCondition</td>\n",
              "      <td>LowCongestionCondition</td>\n",
              "      <td>EvenPaceStyle</td>\n",
              "    </tr>\n",
              "    <tr>\n",
              "      <th>2</th>\n",
              "      <td>NaN</td>\n",
              "      <td>0</td>\n",
              "      <td>NaN</td>\n",
              "      <td>NaN</td>\n",
              "      <td>NaN</td>\n",
              "      <td>0,0952</td>\n",
              "      <td>36,47058868</td>\n",
              "      <td>29.0</td>\n",
              "      <td>100.0</td>\n",
              "      <td>798,5</td>\n",
              "      <td>10,23999977</td>\n",
              "      <td>14.0</td>\n",
              "      <td>-0,0135</td>\n",
              "      <td>NaN</td>\n",
              "      <td>SmoothCondition</td>\n",
              "      <td>LowCongestionCondition</td>\n",
              "      <td>EvenPaceStyle</td>\n",
              "    </tr>\n",
              "    <tr>\n",
              "      <th>3</th>\n",
              "      <td>NaN</td>\n",
              "      <td>0</td>\n",
              "      <td>NaN</td>\n",
              "      <td>NaN</td>\n",
              "      <td>NaN</td>\n",
              "      <td>0,1136</td>\n",
              "      <td>36,47058868</td>\n",
              "      <td>29.0</td>\n",
              "      <td>100.0</td>\n",
              "      <td>798,5</td>\n",
              "      <td>10,23999977</td>\n",
              "      <td>15.0</td>\n",
              "      <td>-0,0161</td>\n",
              "      <td>NaN</td>\n",
              "      <td>SmoothCondition</td>\n",
              "      <td>LowCongestionCondition</td>\n",
              "      <td>EvenPaceStyle</td>\n",
              "    </tr>\n",
              "    <tr>\n",
              "      <th>4</th>\n",
              "      <td>NaN</td>\n",
              "      <td>0</td>\n",
              "      <td>NaN</td>\n",
              "      <td>NaN</td>\n",
              "      <td>NaN</td>\n",
              "      <td>0,1274</td>\n",
              "      <td>36,47058868</td>\n",
              "      <td>29.0</td>\n",
              "      <td>100.0</td>\n",
              "      <td>804,5</td>\n",
              "      <td>10,35999966</td>\n",
              "      <td>15.0</td>\n",
              "      <td>-0,016</td>\n",
              "      <td>NaN</td>\n",
              "      <td>SmoothCondition</td>\n",
              "      <td>LowCongestionCondition</td>\n",
              "      <td>EvenPaceStyle</td>\n",
              "    </tr>\n",
              "    <tr>\n",
              "      <th>5</th>\n",
              "      <td>NaN</td>\n",
              "      <td>0</td>\n",
              "      <td>NaN</td>\n",
              "      <td>NaN</td>\n",
              "      <td>NaN</td>\n",
              "      <td>0,1396</td>\n",
              "      <td>36,47058868</td>\n",
              "      <td>29.0</td>\n",
              "      <td>100.0</td>\n",
              "      <td>804,5</td>\n",
              "      <td>10,35999966</td>\n",
              "      <td>15.0</td>\n",
              "      <td>-0,0147</td>\n",
              "      <td>NaN</td>\n",
              "      <td>SmoothCondition</td>\n",
              "      <td>LowCongestionCondition</td>\n",
              "      <td>EvenPaceStyle</td>\n",
              "    </tr>\n",
              "    <tr>\n",
              "      <th>6</th>\n",
              "      <td>NaN</td>\n",
              "      <td>0</td>\n",
              "      <td>NaN</td>\n",
              "      <td>NaN</td>\n",
              "      <td>NaN</td>\n",
              "      <td>0,1589</td>\n",
              "      <td>36,47058868</td>\n",
              "      <td>29.0</td>\n",
              "      <td>100.0</td>\n",
              "      <td>800,5</td>\n",
              "      <td>10,32999992</td>\n",
              "      <td>15.0</td>\n",
              "      <td>-0,0108</td>\n",
              "      <td>NaN</td>\n",
              "      <td>SmoothCondition</td>\n",
              "      <td>LowCongestionCondition</td>\n",
              "      <td>EvenPaceStyle</td>\n",
              "    </tr>\n",
              "    <tr>\n",
              "      <th>7</th>\n",
              "      <td>NaN</td>\n",
              "      <td>0</td>\n",
              "      <td>NaN</td>\n",
              "      <td>NaN</td>\n",
              "      <td>NaN</td>\n",
              "      <td>0,1951</td>\n",
              "      <td>36,07843018</td>\n",
              "      <td>29.0</td>\n",
              "      <td>100.0</td>\n",
              "      <td>800</td>\n",
              "      <td>10,32999992</td>\n",
              "      <td>15.0</td>\n",
              "      <td>-0,0209</td>\n",
              "      <td>NaN</td>\n",
              "      <td>SmoothCondition</td>\n",
              "      <td>LowCongestionCondition</td>\n",
              "      <td>EvenPaceStyle</td>\n",
              "    </tr>\n",
              "    <tr>\n",
              "      <th>8</th>\n",
              "      <td>NaN</td>\n",
              "      <td>0</td>\n",
              "      <td>NaN</td>\n",
              "      <td>NaN</td>\n",
              "      <td>NaN</td>\n",
              "      <td>0,2408</td>\n",
              "      <td>36,07843018</td>\n",
              "      <td>29.0</td>\n",
              "      <td>100.0</td>\n",
              "      <td>800</td>\n",
              "      <td>10,40999985</td>\n",
              "      <td>15.0</td>\n",
              "      <td>-0,0446</td>\n",
              "      <td>NaN</td>\n",
              "      <td>SmoothCondition</td>\n",
              "      <td>LowCongestionCondition</td>\n",
              "      <td>EvenPaceStyle</td>\n",
              "    </tr>\n",
              "    <tr>\n",
              "      <th>9</th>\n",
              "      <td>-2,800003052</td>\n",
              "      <td>0</td>\n",
              "      <td>NaN</td>\n",
              "      <td>NaN</td>\n",
              "      <td>NaN</td>\n",
              "      <td>0,279</td>\n",
              "      <td>36,47058868</td>\n",
              "      <td>29.0</td>\n",
              "      <td>100.0</td>\n",
              "      <td>782</td>\n",
              "      <td>10,22000027</td>\n",
              "      <td>15.0</td>\n",
              "      <td>-0,0571</td>\n",
              "      <td>NaN</td>\n",
              "      <td>SmoothCondition</td>\n",
              "      <td>LowCongestionCondition</td>\n",
              "      <td>EvenPaceStyle</td>\n",
              "    </tr>\n",
              "  </tbody>\n",
              "</table>\n",
              "</div>\n",
              "    <div class=\"colab-df-buttons\">\n",
              "\n",
              "  <div class=\"colab-df-container\">\n",
              "    <button class=\"colab-df-convert\" onclick=\"convertToInteractive('df-6e423b35-ce68-4413-82d3-8e7c531adc65')\"\n",
              "            title=\"Convert this dataframe to an interactive table.\"\n",
              "            style=\"display:none;\">\n",
              "\n",
              "  <svg xmlns=\"http://www.w3.org/2000/svg\" height=\"24px\" viewBox=\"0 -960 960 960\">\n",
              "    <path d=\"M120-120v-720h720v720H120Zm60-500h600v-160H180v160Zm220 220h160v-160H400v160Zm0 220h160v-160H400v160ZM180-400h160v-160H180v160Zm440 0h160v-160H620v160ZM180-180h160v-160H180v160Zm440 0h160v-160H620v160Z\"/>\n",
              "  </svg>\n",
              "    </button>\n",
              "\n",
              "  <style>\n",
              "    .colab-df-container {\n",
              "      display:flex;\n",
              "      gap: 12px;\n",
              "    }\n",
              "\n",
              "    .colab-df-convert {\n",
              "      background-color: #E8F0FE;\n",
              "      border: none;\n",
              "      border-radius: 50%;\n",
              "      cursor: pointer;\n",
              "      display: none;\n",
              "      fill: #1967D2;\n",
              "      height: 32px;\n",
              "      padding: 0 0 0 0;\n",
              "      width: 32px;\n",
              "    }\n",
              "\n",
              "    .colab-df-convert:hover {\n",
              "      background-color: #E2EBFA;\n",
              "      box-shadow: 0px 1px 2px rgba(60, 64, 67, 0.3), 0px 1px 3px 1px rgba(60, 64, 67, 0.15);\n",
              "      fill: #174EA6;\n",
              "    }\n",
              "\n",
              "    .colab-df-buttons div {\n",
              "      margin-bottom: 4px;\n",
              "    }\n",
              "\n",
              "    [theme=dark] .colab-df-convert {\n",
              "      background-color: #3B4455;\n",
              "      fill: #D2E3FC;\n",
              "    }\n",
              "\n",
              "    [theme=dark] .colab-df-convert:hover {\n",
              "      background-color: #434B5C;\n",
              "      box-shadow: 0px 1px 3px 1px rgba(0, 0, 0, 0.15);\n",
              "      filter: drop-shadow(0px 1px 2px rgba(0, 0, 0, 0.3));\n",
              "      fill: #FFFFFF;\n",
              "    }\n",
              "  </style>\n",
              "\n",
              "    <script>\n",
              "      const buttonEl =\n",
              "        document.querySelector('#df-6e423b35-ce68-4413-82d3-8e7c531adc65 button.colab-df-convert');\n",
              "      buttonEl.style.display =\n",
              "        google.colab.kernel.accessAllowed ? 'block' : 'none';\n",
              "\n",
              "      async function convertToInteractive(key) {\n",
              "        const element = document.querySelector('#df-6e423b35-ce68-4413-82d3-8e7c531adc65');\n",
              "        const dataTable =\n",
              "          await google.colab.kernel.invokeFunction('convertToInteractive',\n",
              "                                                    [key], {});\n",
              "        if (!dataTable) return;\n",
              "\n",
              "        const docLinkHtml = 'Like what you see? Visit the ' +\n",
              "          '<a target=\"_blank\" href=https://colab.research.google.com/notebooks/data_table.ipynb>data table notebook</a>'\n",
              "          + ' to learn more about interactive tables.';\n",
              "        element.innerHTML = '';\n",
              "        dataTable['output_type'] = 'display_data';\n",
              "        await google.colab.output.renderOutput(dataTable, element);\n",
              "        const docLink = document.createElement('div');\n",
              "        docLink.innerHTML = docLinkHtml;\n",
              "        element.appendChild(docLink);\n",
              "      }\n",
              "    </script>\n",
              "  </div>\n",
              "\n",
              "\n",
              "<div id=\"df-780cf7c7-3db4-4439-903c-cc215ec0a9fe\">\n",
              "  <button class=\"colab-df-quickchart\" onclick=\"quickchart('df-780cf7c7-3db4-4439-903c-cc215ec0a9fe')\"\n",
              "            title=\"Suggest charts.\"\n",
              "            style=\"display:none;\">\n",
              "\n",
              "<svg xmlns=\"http://www.w3.org/2000/svg\" height=\"24px\"viewBox=\"0 0 24 24\"\n",
              "     width=\"24px\">\n",
              "    <g>\n",
              "        <path d=\"M19 3H5c-1.1 0-2 .9-2 2v14c0 1.1.9 2 2 2h14c1.1 0 2-.9 2-2V5c0-1.1-.9-2-2-2zM9 17H7v-7h2v7zm4 0h-2V7h2v10zm4 0h-2v-4h2v4z\"/>\n",
              "    </g>\n",
              "</svg>\n",
              "  </button>\n",
              "\n",
              "<style>\n",
              "  .colab-df-quickchart {\n",
              "      --bg-color: #E8F0FE;\n",
              "      --fill-color: #1967D2;\n",
              "      --hover-bg-color: #E2EBFA;\n",
              "      --hover-fill-color: #174EA6;\n",
              "      --disabled-fill-color: #AAA;\n",
              "      --disabled-bg-color: #DDD;\n",
              "  }\n",
              "\n",
              "  [theme=dark] .colab-df-quickchart {\n",
              "      --bg-color: #3B4455;\n",
              "      --fill-color: #D2E3FC;\n",
              "      --hover-bg-color: #434B5C;\n",
              "      --hover-fill-color: #FFFFFF;\n",
              "      --disabled-bg-color: #3B4455;\n",
              "      --disabled-fill-color: #666;\n",
              "  }\n",
              "\n",
              "  .colab-df-quickchart {\n",
              "    background-color: var(--bg-color);\n",
              "    border: none;\n",
              "    border-radius: 50%;\n",
              "    cursor: pointer;\n",
              "    display: none;\n",
              "    fill: var(--fill-color);\n",
              "    height: 32px;\n",
              "    padding: 0;\n",
              "    width: 32px;\n",
              "  }\n",
              "\n",
              "  .colab-df-quickchart:hover {\n",
              "    background-color: var(--hover-bg-color);\n",
              "    box-shadow: 0 1px 2px rgba(60, 64, 67, 0.3), 0 1px 3px 1px rgba(60, 64, 67, 0.15);\n",
              "    fill: var(--button-hover-fill-color);\n",
              "  }\n",
              "\n",
              "  .colab-df-quickchart-complete:disabled,\n",
              "  .colab-df-quickchart-complete:disabled:hover {\n",
              "    background-color: var(--disabled-bg-color);\n",
              "    fill: var(--disabled-fill-color);\n",
              "    box-shadow: none;\n",
              "  }\n",
              "\n",
              "  .colab-df-spinner {\n",
              "    border: 2px solid var(--fill-color);\n",
              "    border-color: transparent;\n",
              "    border-bottom-color: var(--fill-color);\n",
              "    animation:\n",
              "      spin 1s steps(1) infinite;\n",
              "  }\n",
              "\n",
              "  @keyframes spin {\n",
              "    0% {\n",
              "      border-color: transparent;\n",
              "      border-bottom-color: var(--fill-color);\n",
              "      border-left-color: var(--fill-color);\n",
              "    }\n",
              "    20% {\n",
              "      border-color: transparent;\n",
              "      border-left-color: var(--fill-color);\n",
              "      border-top-color: var(--fill-color);\n",
              "    }\n",
              "    30% {\n",
              "      border-color: transparent;\n",
              "      border-left-color: var(--fill-color);\n",
              "      border-top-color: var(--fill-color);\n",
              "      border-right-color: var(--fill-color);\n",
              "    }\n",
              "    40% {\n",
              "      border-color: transparent;\n",
              "      border-right-color: var(--fill-color);\n",
              "      border-top-color: var(--fill-color);\n",
              "    }\n",
              "    60% {\n",
              "      border-color: transparent;\n",
              "      border-right-color: var(--fill-color);\n",
              "    }\n",
              "    80% {\n",
              "      border-color: transparent;\n",
              "      border-right-color: var(--fill-color);\n",
              "      border-bottom-color: var(--fill-color);\n",
              "    }\n",
              "    90% {\n",
              "      border-color: transparent;\n",
              "      border-bottom-color: var(--fill-color);\n",
              "    }\n",
              "  }\n",
              "</style>\n",
              "\n",
              "  <script>\n",
              "    async function quickchart(key) {\n",
              "      const quickchartButtonEl =\n",
              "        document.querySelector('#' + key + ' button');\n",
              "      quickchartButtonEl.disabled = true;  // To prevent multiple clicks.\n",
              "      quickchartButtonEl.classList.add('colab-df-spinner');\n",
              "      try {\n",
              "        const charts = await google.colab.kernel.invokeFunction(\n",
              "            'suggestCharts', [key], {});\n",
              "      } catch (error) {\n",
              "        console.error('Error during call to suggestCharts:', error);\n",
              "      }\n",
              "      quickchartButtonEl.classList.remove('colab-df-spinner');\n",
              "      quickchartButtonEl.classList.add('colab-df-quickchart-complete');\n",
              "    }\n",
              "    (() => {\n",
              "      let quickchartButtonEl =\n",
              "        document.querySelector('#df-780cf7c7-3db4-4439-903c-cc215ec0a9fe button');\n",
              "      quickchartButtonEl.style.display =\n",
              "        google.colab.kernel.accessAllowed ? 'block' : 'none';\n",
              "    })();\n",
              "  </script>\n",
              "</div>\n",
              "    </div>\n",
              "  </div>\n"
            ]
          },
          "metadata": {},
          "execution_count": 11
        }
      ]
    },
    {
      "cell_type": "markdown",
      "source": [
        "#plot the traffic column in the data which will use it as target later...."
      ],
      "metadata": {
        "id": "3FUJpZWIA6mq"
      }
    },
    {
      "cell_type": "code",
      "source": [
        "# Get the counts of each unique value in the 'traffic' column\n",
        "value_counts = Data['traffic'].value_counts()\n",
        "\n",
        "# Plot the counts as a bar plot\n",
        "plt.bar(value_counts.index, value_counts.values)\n",
        "\n",
        "# Add labels and a title\n",
        "plt.xlabel('traffic')\n",
        "plt.ylabel('type')\n",
        "plt.title('Bar Plot of traffic Counts for each type')\n",
        "\n",
        "# Show the plot\n",
        "plt.show()\n"
      ],
      "metadata": {
        "colab": {
          "base_uri": "https://localhost:8080/",
          "height": 472
        },
        "id": "b11S7AOpBB1t",
        "outputId": "e4e92f25-e7a8-432a-b807-d78646d47934"
      },
      "execution_count": null,
      "outputs": [
        {
          "output_type": "display_data",
          "data": {
            "text/plain": [
              "<Figure size 640x480 with 1 Axes>"
            ],
            "image/png": "[encoded data removed]"
          },
          "metadata": {}
        }
      ]
    },
    {
      "cell_type": "markdown",
      "source": [
        "#start with some preprocessing"
      ],
      "metadata": {
        "id": "KENhuaFhAomH"
      }
    },
    {
      "cell_type": "code",
      "source": [
        "#fill the NAN values in the Data\n",
        "Data = Data.fillna(0)"
      ],
      "metadata": {
        "id": "VPhed9loATp4"
      },
      "execution_count": null,
      "outputs": []
    },
    {
      "cell_type": "code",
      "source": [
        "#define function for process the column's values\n",
        "def process_col_values(df_new, col_name):\n",
        "    col_list = list(df_new[col_name])\n",
        "    processed_value = []\n",
        "    for each_value in col_list:\n",
        "        if each_value == 0:\n",
        "            processed_value.append(0)\n",
        "        elif type(each_value) == str:\n",
        "            processed_value.append(float(each_value.replace.(\",\",\"\")))\n",
        "        else:\n",
        "            processed_value.append(float(each_value))\n",
        "\n",
        "    df_new[col_name] = processed_value"
      ],
      "metadata": {
        "id": "MHqYTA6XATtn"
      },
      "execution_count": null,
      "outputs": []
    },
    {
      "cell_type": "code",
      "source": [
        "#preprocess theis columns using the previos function\n",
        "cols_to_change = [\"AltitudeVariation\", \"VehicleSpeedInstantaneous\", \"VehicleSpeedAverage\", \"VehicleSpeedVariance\", \"VehicleSpeedVariation\",\n",
        "                 \"LongitudinalAcceleration\", \"EngineLoad\", \"EngineRPM\", \"MassAirFlow\", \"VerticalAcceleration\", \"FuelConsumptionAverage\"]\n",
        "for col in cols_to_change:\n",
        "    print(col)\n",
        "    process_col_values(Data, col)"
      ],
      "metadata": {
        "colab": {
          "base_uri": "https://localhost:8080/"
        },
        "id": "TS2YHNj-B-Pa",
        "outputId": "95b92c10-fdd0-40b6-ec6f-3a8248f0e643"
      },
      "execution_count": null,
      "outputs": [
        {
          "output_type": "stream",
          "name": "stdout",
          "text": [
            "AltitudeVariation\n",
            "VehicleSpeedInstantaneous\n",
            "VehicleSpeedAverage\n",
            "VehicleSpeedVariance\n",
            "VehicleSpeedVariation\n",
            "LongitudinalAcceleration\n",
            "EngineLoad\n",
            "EngineRPM\n",
            "MassAirFlow\n",
            "VerticalAcceleration\n",
            "FuelConsumptionAverage\n"
          ]
        }
      ]
    },
    {
      "cell_type": "markdown",
      "source": [
        "#define the target column which is the encoded traffic column"
      ],
      "metadata": {
        "id": "57VHXEktCLyu"
      }
    },
    {
      "cell_type": "code",
      "source": [
        "\n",
        "# Create a LabelEncoder instance\n",
        "label_encoder = LabelEncoder()\n",
        "\n",
        "# Fit and transform the 'traffic' column\n",
        "Data['target'] = label_encoder.fit_transform(Data['traffic'])\n"
      ],
      "metadata": {
        "id": "_vphLaHPCL9N"
      },
      "execution_count": null,
      "outputs": []
    },
    {
      "cell_type": "markdown",
      "source": [
        "#drop some unuseful columns"
      ],
      "metadata": {
        "id": "sgVKR6I1CekR"
      }
    },
    {
      "cell_type": "code",
      "source": [
        "columns_to_drop = ['roadSurface', 'drivingStyle','traffic']\n",
        "Data = Data.drop(columns=columns_to_drop)"
      ],
      "metadata": {
        "id": "VVnBDt70Cex9"
      },
      "execution_count": null,
      "outputs": []
    },
    {
      "cell_type": "code",
      "source": [
        "# Shuffle the data for good scaling later within the model\n",
        "processed_data = shuffle(Data)"
      ],
      "metadata": {
        "id": "97YnGBE-Csr9"
      },
      "execution_count": null,
      "outputs": []
    },
    {
      "cell_type": "code",
      "source": [
        "#define the X and y\n",
        "X = processed_data.drop(['target'], axis=1)\n",
        "y = np.array(processed_data['target'].values.tolist())"
      ],
      "metadata": {
        "id": "ZiHKOxPlEHyR"
      },
      "execution_count": null,
      "outputs": []
    },
    {
      "cell_type": "markdown",
      "source": [
        "#split the data into train and test"
      ],
      "metadata": {
        "id": "mCs2zBtVEPfP"
      }
    },
    {
      "cell_type": "code",
      "source": [
        "X_train, X_test, y_train, y_test = train_test_split(X, y, test_size=0.35, random_state=42,shuffle=True)\n",
        "print(X_train.shape, X_test.shape, y_train.shape, y_test.shape)"
      ],
      "metadata": {
        "colab": {
          "base_uri": "https://localhost:8080/"
        },
        "id": "nHyi747MESSh",
        "outputId": "55f37d23-1122-47d7-e2a5-3c951ce58a28"
      },
      "execution_count": null,
      "outputs": [
        {
          "output_type": "stream",
          "name": "stdout",
          "text": [
            "(16222, 14) (8735, 14) (16222,) (8735,)\n"
          ]
        }
      ]
    },
    {
      "cell_type": "markdown",
      "source": [
        "#scaling the data"
      ],
      "metadata": {
        "id": "n12YFVPAEWq9"
      }
    },
    {
      "cell_type": "code",
      "source": [
        "scaling = MinMaxScaler(feature_range=(-1,1)).fit(X_train)\n",
        "X_train = scaling.transform(X_train)\n",
        "X_test = scaling.transform(X_test)"
      ],
      "metadata": {
        "id": "iLKu4hRDEUmf"
      },
      "execution_count": null,
      "outputs": []
    },
    {
      "cell_type": "markdown",
      "source": [
        "#start with modeling"
      ],
      "metadata": {
        "id": "_zV6WWsPEkr7"
      }
    },
    {
      "cell_type": "markdown",
      "source": [
        "#before start with our approach we will fit the SVM on this data to compare the results between the SVM and the Neural-SVM"
      ],
      "metadata": {
        "id": "Em-d_1OpEoFT"
      }
    },
    {
      "cell_type": "code",
      "source": [
        "start = time.time()\n",
        "svm_classifier = SVC(kernel='rbf', C=1000)\n",
        "svm_classifier.fit(X_train, y_train)\n",
        "end = time.time()\n",
        "svm_predictions = svm_classifier.predict(X_test)\n",
        "svm_accuracy = accuracy_score(y_test, svm_predictions)\n",
        "print(\"SVM Accuracy:\", svm_accuracy)\n",
        "print(\"the execution time is \".title())\n",
        "print(end-start)\n",
        "print(\"DOne.....\")"
      ],
      "metadata": {
        "colab": {
          "base_uri": "https://localhost:8080/"
        },
        "id": "PHwwabxBEnL7",
        "outputId": "0fa6a884-02ab-4c5e-dae4-ce37ac24a2af"
      },
      "execution_count": null,
      "outputs": [
        {
          "output_type": "stream",
          "name": "stdout",
          "text": [
            "SVM Accuracy: 0.9638236977676016\n",
            "The Execution Time Is \n",
            "30.359951496124268\n",
            "DOne.....\n"
          ]
        }
      ]
    },
    {
      "cell_type": "markdown",
      "source": [
        "#for the Neural-SVM we use the nengo framework for build the network"
      ],
      "metadata": {
        "id": "fXeyOWdwFaKB"
      }
    },
    {
      "cell_type": "code",
      "source": [
        "with nengo.Network(seed=seed) as net:\n",
        "   # set up some default parameters to match the Keras defaults\n",
        "    net.config[nengo.Ensemble].gain = nengo.dists.Choice([1])\n",
        "    net.config[nengo.Ensemble].bias = nengo.dists.Choice([0])\n",
        "    net.config[nengo.Connection].synapse = None\n",
        "    net.config[nengo.Connection].transform = nengo_dl.dists.Glorot()\n",
        "    inp =  nengo.Node(np.zeros(n_in))\n",
        "\n",
        "    hidden1 = nengo_dl.Layer(tf.keras.layers.Dense(units=128, activation=tf.nn.relu))(\n",
        "        inp\n",
        "    )\n",
        "\n",
        "    hidden2 = nengo_dl.Layer(tf.keras.layers.Dense(units=64, activation=tf.nn.relu))(\n",
        "        hidden1\n",
        "    )\n",
        "\n",
        "    hidden3 = nengo_dl.Layer(tf.keras.layers.Dense(units=64, activation=tf.nn.relu))(\n",
        "        hidden2\n",
        "    )\n",
        "    hidden4 = nengo_dl.Layer(tf.keras.layers.Dense(units=32, activation=tf.nn.relu))(\n",
        "        hidden3\n",
        "    )\n",
        "    out = nengo_dl.Layer(tf.keras.layers.Dense(units=num_classes))(hidden4)\n",
        "\n",
        "    # add a probe to collect output\n",
        "    out_p = nengo.Probe(out)\n",
        "    #add another probe to extract features from the fouth hidden layer and feed it to SVM\n",
        "    hidden_probe=nengo.Probe(hidden4)"
      ],
      "metadata": {
        "id": "F1e5XBpsFaUV"
      },
      "execution_count": null,
      "outputs": []
    },
    {
      "cell_type": "markdown",
      "source": [
        "#for fit the data into the nengo simulater we should categorize the labels and do some reshape on the X_train,y_train,X_test and y_test"
      ],
      "metadata": {
        "id": "sF9FGP0lGDp7"
      }
    },
    {
      "cell_type": "code",
      "source": [
        "#catigorize the target.\n",
        "y_train_encoded=to_categorical(y_train,num_classes=3)\n",
        "y_test_encoded=to_categorical(y_test,num_classes=3)\n",
        "\n",
        "#the shapes before.......\n",
        "print(X_train.shape)\n",
        "print(X_test.shape)\n",
        "print(y_train_encoded.shape)\n",
        "print(y_test_encoded.shape)\n"
      ],
      "metadata": {
        "colab": {
          "base_uri": "https://localhost:8080/"
        },
        "id": "R7I4BnG_G4cD",
        "outputId": "15e95be2-d3db-4ffe-f2f3-46e4f97a45ad"
      },
      "execution_count": null,
      "outputs": [
        {
          "output_type": "stream",
          "name": "stdout",
          "text": [
            "(16222, 14)\n",
            "(8735, 14)\n",
            "(16222, 3)\n",
            "(8735, 3)\n"
          ]
        }
      ]
    },
    {
      "cell_type": "code",
      "source": [
        "#reshape the data\n",
        "X_train=X_train.reshape(16222, 1, n_in)\n",
        "X_test=X_test.reshape(8735, 1, n_in)\n",
        "y_train_encoded=y_train_encoded.reshape(16222, 1, num_classes)\n",
        "y_test_encoded=y_test_encoded.reshape(8735, 1, num_classes)"
      ],
      "metadata": {
        "id": "uYadfHx3HDCb"
      },
      "execution_count": null,
      "outputs": []
    },
    {
      "cell_type": "code",
      "source": [
        "# the shapes after.......\n",
        "print(X_train.shape)\n",
        "print(X_test.shape)\n",
        "print(y_train_encoded.shape)\n",
        "print(y_test_encoded.shape)\n"
      ],
      "metadata": {
        "colab": {
          "base_uri": "https://localhost:8080/"
        },
        "id": "fVhn2cSmG5JV",
        "outputId": "253bafbb-86bf-4060-b760-6eb867d2fcdc"
      },
      "execution_count": null,
      "outputs": [
        {
          "output_type": "stream",
          "name": "stdout",
          "text": [
            "(16222, 1, 14)\n",
            "(8735, 1, 14)\n",
            "(16222, 1, 3)\n",
            "(8735, 1, 3)\n"
          ]
        }
      ]
    },
    {
      "cell_type": "code",
      "source": [
        "# set initial neuron gains to 1 and biases to 0\n",
        "for ens in net.all_ensembles:\n",
        "    ens.gain = nengo.dists.Choice([1])\n",
        "    ens.bias = nengo.dists.Choice([0])\n",
        "\n",
        "# disable synaptic filtering on all connections\n",
        "for conn in net.all_connections:\n",
        "    conn.synapse = None"
      ],
      "metadata": {
        "id": "llFBAwuEHYys"
      },
      "execution_count": null,
      "outputs": []
    },
    {
      "cell_type": "markdown",
      "source": [
        "#start the training..."
      ],
      "metadata": {
        "id": "Luex29ajHbrs"
      }
    },
    {
      "cell_type": "code",
      "source": [
        "with nengo_dl.Simulator(net, minibatch_size=minibatch_size) as sim:\n",
        "    sim.compile(optimizer=tf.optimizers.RMSprop(1e-3), loss=tf.losses.mse,metrics=[\"accuracy\"])\n",
        "\n",
        "    # run training loop\n",
        "    sim.fit(X_train,y_train_encoded, epochs=50)\n",
        "\n",
        "    # evaluate performance on test set\n",
        "    sim.evaluate(X_test,y_test_encoded)\n",
        "\n"
      ],
      "metadata": {
        "colab": {
          "base_uri": "https://localhost:8080/"
        },
        "id": "DuPy_8HcHexM",
        "outputId": "40ad1266-7533-459a-be2b-512e6b117b85"
      },
      "execution_count": null,
      "outputs": [
        {
          "output_type": "stream",
          "name": "stdout",
          "text": [
            "Build finished in 0:00:00                                                      \n",
            "Optimization finished in 0:00:00                                               \n",
            "Construction finished in 0:00:01                                               \n",
            "Epoch 1/50\n",
            "|             Constructing graph: build stage (0%)             | ETA:  --:--:--"
          ]
        },
        {
          "output_type": "stream",
          "name": "stderr",
          "text": [
            "/usr/local/lib/python3.10/dist-packages/nengo_dl/simulator.py:1736: UserWarning: Number of elements (1) in ['str'] does not match number of Probes (2); consider using an explicit input dictionary in this case, so that the assignment of data to objects is unambiguous.\n",
            "  warnings.warn(\n",
            "/usr/local/lib/python3.10/dist-packages/nengo_dl/simulator.py:1892: UserWarning: Number of elements in input data (16222) is not evenly divisible by Simulator.minibatch_size (10); input data will be truncated.\n",
            "  warnings.warn(\n",
            "/usr/local/lib/python3.10/dist-packages/nengo_dl/simulator.py:1736: UserWarning: Number of elements (1) in ['ndarray'] does not match number of Probes (2); consider using an explicit input dictionary in this case, so that the assignment of data to objects is unambiguous.\n",
            "  warnings.warn(\n"
          ]
        },
        {
          "output_type": "stream",
          "name": "stdout",
          "text": [
            "1622/1622 [==============================] - 18s 9ms/step - loss: 0.1047 - probe_loss: 0.1047 - probe_1_loss: 0.0000e+00 - probe_accuracy: 0.7873\n",
            "Epoch 2/50\n",
            "1622/1622 [==============================] - 11s 7ms/step - loss: 0.0826 - probe_loss: 0.0826 - probe_1_loss: 0.0000e+00 - probe_accuracy: 0.8321\n",
            "Epoch 3/50\n",
            "1622/1622 [==============================] - 11s 7ms/step - loss: 0.0673 - probe_loss: 0.0673 - probe_1_loss: 0.0000e+00 - probe_accuracy: 0.8675\n",
            "Epoch 4/50\n",
            "1622/1622 [==============================] - 12s 7ms/step - loss: 0.0587 - probe_loss: 0.0587 - probe_1_loss: 0.0000e+00 - probe_accuracy: 0.8842\n",
            "Epoch 5/50\n",
            "1622/1622 [==============================] - 12s 7ms/step - loss: 0.0532 - probe_loss: 0.0532 - probe_1_loss: 0.0000e+00 - probe_accuracy: 0.8944\n",
            "Epoch 6/50\n",
            "1622/1622 [==============================] - 11s 7ms/step - loss: 0.0487 - probe_loss: 0.0487 - probe_1_loss: 0.0000e+00 - probe_accuracy: 0.9044\n",
            "Epoch 7/50\n",
            "1622/1622 [==============================] - 11s 7ms/step - loss: 0.0463 - probe_loss: 0.0463 - probe_1_loss: 0.0000e+00 - probe_accuracy: 0.9084\n",
            "Epoch 8/50\n",
            "1622/1622 [==============================] - 14s 8ms/step - loss: 0.0433 - probe_loss: 0.0433 - probe_1_loss: 0.0000e+00 - probe_accuracy: 0.9162\n",
            "Epoch 9/50\n",
            "1622/1622 [==============================] - 13s 8ms/step - loss: 0.0416 - probe_loss: 0.0416 - probe_1_loss: 0.0000e+00 - probe_accuracy: 0.9198\n",
            "Epoch 10/50\n",
            "1622/1622 [==============================] - 12s 7ms/step - loss: 0.0399 - probe_loss: 0.0399 - probe_1_loss: 0.0000e+00 - probe_accuracy: 0.9236\n",
            "Epoch 11/50\n",
            "1622/1622 [==============================] - 10s 6ms/step - loss: 0.0378 - probe_loss: 0.0378 - probe_1_loss: 0.0000e+00 - probe_accuracy: 0.9282\n",
            "Epoch 12/50\n",
            "1622/1622 [==============================] - 12s 7ms/step - loss: 0.0362 - probe_loss: 0.0362 - probe_1_loss: 0.0000e+00 - probe_accuracy: 0.9311\n",
            "Epoch 13/50\n",
            "1622/1622 [==============================] - 13s 8ms/step - loss: 0.0348 - probe_loss: 0.0348 - probe_1_loss: 0.0000e+00 - probe_accuracy: 0.9352\n",
            "Epoch 14/50\n",
            "1622/1622 [==============================] - 12s 7ms/step - loss: 0.0336 - probe_loss: 0.0336 - probe_1_loss: 0.0000e+00 - probe_accuracy: 0.9389\n",
            "Epoch 15/50\n",
            "1622/1622 [==============================] - 10s 6ms/step - loss: 0.0331 - probe_loss: 0.0331 - probe_1_loss: 0.0000e+00 - probe_accuracy: 0.9382\n",
            "Epoch 16/50\n",
            "1622/1622 [==============================] - 12s 7ms/step - loss: 0.0322 - probe_loss: 0.0322 - probe_1_loss: 0.0000e+00 - probe_accuracy: 0.9401\n",
            "Epoch 17/50\n",
            "1622/1622 [==============================] - 12s 7ms/step - loss: 0.0312 - probe_loss: 0.0312 - probe_1_loss: 0.0000e+00 - probe_accuracy: 0.9423\n",
            "Epoch 18/50\n",
            "1622/1622 [==============================] - 12s 7ms/step - loss: 0.0303 - probe_loss: 0.0303 - probe_1_loss: 0.0000e+00 - probe_accuracy: 0.9432\n",
            "Epoch 19/50\n",
            "1622/1622 [==============================] - 10s 6ms/step - loss: 0.0289 - probe_loss: 0.0289 - probe_1_loss: 0.0000e+00 - probe_accuracy: 0.9469\n",
            "Epoch 20/50\n",
            "1622/1622 [==============================] - 12s 7ms/step - loss: 0.0285 - probe_loss: 0.0285 - probe_1_loss: 0.0000e+00 - probe_accuracy: 0.9472\n",
            "Epoch 21/50\n",
            "1622/1622 [==============================] - 12s 7ms/step - loss: 0.0283 - probe_loss: 0.0283 - probe_1_loss: 0.0000e+00 - probe_accuracy: 0.9480\n",
            "Epoch 22/50\n",
            "1622/1622 [==============================] - 12s 7ms/step - loss: 0.0271 - probe_loss: 0.0271 - probe_1_loss: 0.0000e+00 - probe_accuracy: 0.9511\n",
            "Epoch 23/50\n",
            "1622/1622 [==============================] - 11s 6ms/step - loss: 0.0273 - probe_loss: 0.0273 - probe_1_loss: 0.0000e+00 - probe_accuracy: 0.9491\n",
            "Epoch 24/50\n",
            "1622/1622 [==============================] - 12s 7ms/step - loss: 0.0272 - probe_loss: 0.0272 - probe_1_loss: 0.0000e+00 - probe_accuracy: 0.9493\n",
            "Epoch 25/50\n",
            "1622/1622 [==============================] - 12s 7ms/step - loss: 0.0266 - probe_loss: 0.0266 - probe_1_loss: 0.0000e+00 - probe_accuracy: 0.9509\n",
            "Epoch 26/50\n",
            "1622/1622 [==============================] - 12s 7ms/step - loss: 0.0253 - probe_loss: 0.0253 - probe_1_loss: 0.0000e+00 - probe_accuracy: 0.9554\n",
            "Epoch 27/50\n",
            "1622/1622 [==============================] - 11s 7ms/step - loss: 0.0254 - probe_loss: 0.0254 - probe_1_loss: 0.0000e+00 - probe_accuracy: 0.9546\n",
            "Epoch 28/50\n",
            "1622/1622 [==============================] - 12s 7ms/step - loss: 0.0248 - probe_loss: 0.0248 - probe_1_loss: 0.0000e+00 - probe_accuracy: 0.9551\n",
            "Epoch 29/50\n",
            "1622/1622 [==============================] - 12s 8ms/step - loss: 0.0246 - probe_loss: 0.0246 - probe_1_loss: 0.0000e+00 - probe_accuracy: 0.9541\n",
            "Epoch 30/50\n",
            "1622/1622 [==============================] - 12s 7ms/step - loss: 0.0243 - probe_loss: 0.0243 - probe_1_loss: 0.0000e+00 - probe_accuracy: 0.9572\n",
            "Epoch 31/50\n",
            "1622/1622 [==============================] - 11s 7ms/step - loss: 0.0241 - probe_loss: 0.0241 - probe_1_loss: 0.0000e+00 - probe_accuracy: 0.9570\n",
            "Epoch 32/50\n",
            "1622/1622 [==============================] - 12s 7ms/step - loss: 0.0240 - probe_loss: 0.0240 - probe_1_loss: 0.0000e+00 - probe_accuracy: 0.9573\n",
            "Epoch 33/50\n",
            "1622/1622 [==============================] - 12s 7ms/step - loss: 0.0236 - probe_loss: 0.0236 - probe_1_loss: 0.0000e+00 - probe_accuracy: 0.9571\n",
            "Epoch 34/50\n",
            "1622/1622 [==============================] - 12s 7ms/step - loss: 0.0222 - probe_loss: 0.0222 - probe_1_loss: 0.0000e+00 - probe_accuracy: 0.9599\n",
            "Epoch 35/50\n",
            "1622/1622 [==============================] - 11s 7ms/step - loss: 0.0231 - probe_loss: 0.0231 - probe_1_loss: 0.0000e+00 - probe_accuracy: 0.9575\n",
            "Epoch 36/50\n",
            "1622/1622 [==============================] - 11s 7ms/step - loss: 0.0227 - probe_loss: 0.0227 - probe_1_loss: 0.0000e+00 - probe_accuracy: 0.9589\n",
            "Epoch 37/50\n",
            "1622/1622 [==============================] - 12s 8ms/step - loss: 0.0220 - probe_loss: 0.0220 - probe_1_loss: 0.0000e+00 - probe_accuracy: 0.9601\n",
            "Epoch 38/50\n",
            "1622/1622 [==============================] - 12s 7ms/step - loss: 0.0225 - probe_loss: 0.0225 - probe_1_loss: 0.0000e+00 - probe_accuracy: 0.9586\n",
            "Epoch 39/50\n",
            "1622/1622 [==============================] - 11s 7ms/step - loss: 0.0219 - probe_loss: 0.0219 - probe_1_loss: 0.0000e+00 - probe_accuracy: 0.9596\n",
            "Epoch 40/50\n",
            "1622/1622 [==============================] - 12s 7ms/step - loss: 0.0218 - probe_loss: 0.0218 - probe_1_loss: 0.0000e+00 - probe_accuracy: 0.9617\n",
            "Epoch 41/50\n",
            "1622/1622 [==============================] - 12s 7ms/step - loss: 0.0220 - probe_loss: 0.0220 - probe_1_loss: 0.0000e+00 - probe_accuracy: 0.9597\n",
            "Epoch 42/50\n",
            "1622/1622 [==============================] - 12s 7ms/step - loss: 0.0211 - probe_loss: 0.0211 - probe_1_loss: 0.0000e+00 - probe_accuracy: 0.9623\n",
            "Epoch 43/50\n",
            "1622/1622 [==============================] - 12s 7ms/step - loss: 0.0206 - probe_loss: 0.0206 - probe_1_loss: 0.0000e+00 - probe_accuracy: 0.9632\n",
            "Epoch 44/50\n",
            "1622/1622 [==============================] - 11s 7ms/step - loss: 0.0205 - probe_loss: 0.0205 - probe_1_loss: 0.0000e+00 - probe_accuracy: 0.9636\n",
            "Epoch 45/50\n",
            "1622/1622 [==============================] - 12s 7ms/step - loss: 0.0208 - probe_loss: 0.0208 - probe_1_loss: 0.0000e+00 - probe_accuracy: 0.9631\n",
            "Epoch 46/50\n",
            "1622/1622 [==============================] - 12s 7ms/step - loss: 0.0211 - probe_loss: 0.0211 - probe_1_loss: 0.0000e+00 - probe_accuracy: 0.9619\n",
            "Epoch 47/50\n",
            "1622/1622 [==============================] - 12s 7ms/step - loss: 0.0206 - probe_loss: 0.0206 - probe_1_loss: 0.0000e+00 - probe_accuracy: 0.9636\n",
            "Epoch 48/50\n",
            "1622/1622 [==============================] - 11s 7ms/step - loss: 0.0209 - probe_loss: 0.0209 - probe_1_loss: 0.0000e+00 - probe_accuracy: 0.9618\n",
            "Epoch 49/50\n",
            "1622/1622 [==============================] - 12s 7ms/step - loss: 0.0207 - probe_loss: 0.0207 - probe_1_loss: 0.0000e+00 - probe_accuracy: 0.9619\n",
            "Epoch 50/50\n",
            "1622/1622 [==============================] - 12s 7ms/step - loss: 0.0201 - probe_loss: 0.0201 - probe_1_loss: 0.0000e+00 - probe_accuracy: 0.9636\n"
          ]
        },
        {
          "output_type": "stream",
          "name": "stderr",
          "text": [
            "/usr/local/lib/python3.10/dist-packages/nengo_dl/simulator.py:1892: UserWarning: Number of elements in input data (8735) is not evenly divisible by Simulator.minibatch_size (10); input data will be truncated.\n",
            "  warnings.warn(\n"
          ]
        },
        {
          "output_type": "stream",
          "name": "stdout",
          "text": [
            "873/873 [==============================] - 4s 4ms/step - loss: 0.0244 - probe_loss: 0.0244 - probe_1_loss: 0.0000e+00 - probe_accuracy: 0.9567\n"
          ]
        }
      ]
    },
    {
      "cell_type": "markdown",
      "source": [
        "#make some prediction for extract features for train and test"
      ],
      "metadata": {
        "id": "NC6GoluoHi4r"
      }
    },
    {
      "cell_type": "code",
      "source": [
        "with nengo_dl.Simulator(network=net, minibatch_size=minibatch_size) as sim:\n",
        "    out = sim.predict(X_train)"
      ],
      "metadata": {
        "colab": {
          "base_uri": "https://localhost:8080/"
        },
        "id": "8lqYmv0hHmDg",
        "outputId": "43580560-46d0-4d32-c4e1-fb611c26f9b3"
      },
      "execution_count": null,
      "outputs": [
        {
          "output_type": "stream",
          "name": "stdout",
          "text": [
            "Build finished in 0:00:00                                                      \n",
            "Optimization finished in 0:00:00                                               \n",
            "Construction finished in 0:00:00                                               \n"
          ]
        }
      ]
    },
    {
      "cell_type": "code",
      "source": [
        "with nengo_dl.Simulator(network=net, minibatch_size=minibatch_size) as sim:\n",
        "    out_t = sim.predict(X_test)"
      ],
      "metadata": {
        "colab": {
          "base_uri": "https://localhost:8080/"
        },
        "id": "umQdJtgEIhXR",
        "outputId": "ac1ac4d4-0e29-42ee-cc07-64d1bc1a0c31"
      },
      "execution_count": null,
      "outputs": [
        {
          "output_type": "stream",
          "name": "stdout",
          "text": [
            "Build finished in 0:00:00                                                      \n",
            "Optimization finished in 0:00:00                                               \n",
            "Construction finished in 0:00:00                                               \n"
          ]
        }
      ]
    },
    {
      "cell_type": "markdown",
      "source": [
        "#Extract the features for the SVM"
      ],
      "metadata": {
        "id": "6BJoNAuAHxMU"
      }
    },
    {
      "cell_type": "code",
      "source": [
        "Extracted_features=out[hidden_probe] #from the forth hidden layer"
      ],
      "metadata": {
        "id": "D4_JuijIHz_u"
      },
      "execution_count": null,
      "outputs": []
    },
    {
      "cell_type": "code",
      "source": [
        "print(Extracted_features.shape)\n",
        "print(y_train_encoded.shape)"
      ],
      "metadata": {
        "colab": {
          "base_uri": "https://localhost:8080/"
        },
        "id": "YTvDF1QOIC_O",
        "outputId": "8c6a35ae-ac2a-46c2-faf1-7eaa06a01722"
      },
      "execution_count": null,
      "outputs": [
        {
          "output_type": "stream",
          "name": "stdout",
          "text": [
            "(16220, 1, 32)\n",
            "(16222, 1, 3)\n"
          ]
        }
      ]
    },
    {
      "cell_type": "code",
      "source": [
        "#solve the missmatch between the Extracted_features and the y_train_encoded\n",
        "y_train_encoded=y_train_encoded[:-2]"
      ],
      "metadata": {
        "id": "3pI7qnjVMhZl"
      },
      "execution_count": null,
      "outputs": []
    },
    {
      "cell_type": "code",
      "source": [
        "#reshape the Extracted_featuresfor and the y_train for fit the SVM\n",
        "Extracted_features=Extracted_features.reshape(16220, 32)\n",
        "y_train_encoded=y_train_encoded.reshape(16220, 3)"
      ],
      "metadata": {
        "id": "TLdZ0b84IAGx"
      },
      "execution_count": null,
      "outputs": []
    },
    {
      "cell_type": "code",
      "source": [
        "#fit the SVM on the extracted features\n",
        "svm = SVC(kernel='rbf',C=10000)\n",
        "svm.fit(Extracted_features,np.argmax(y_train_encoded,axis=1))\n"
      ],
      "metadata": {
        "colab": {
          "base_uri": "https://localhost:8080/",
          "height": 75
        },
        "id": "zjxlyvzGIbRb",
        "outputId": "2ec1602d-9b32-475e-ed5b-8d7390961b60"
      },
      "execution_count": null,
      "outputs": [
        {
          "output_type": "execute_result",
          "data": {
            "text/plain": [
              "SVC(C=10000)"
            ],
            "text/html": [
              "<style>#sk-container-id-1 {color: black;background-color: white;}#sk-container-id-1 pre{padding: 0;}#sk-container-id-1 div.sk-toggleable {background-color: white;}#sk-container-id-1 label.sk-toggleable__label {cursor: pointer;display: block;width: 100%;margin-bottom: 0;padding: 0.3em;box-sizing: border-box;text-align: center;}#sk-container-id-1 label.sk-toggleable__label-arrow:before {content: \"▸\";float: left;margin-right: 0.25em;color: #696969;}#sk-container-id-1 label.sk-toggleable__label-arrow:hover:before {color: black;}#sk-container-id-1 div.sk-estimator:hover label.sk-toggleable__label-arrow:before {color: black;}#sk-container-id-1 div.sk-toggleable__content {max-height: 0;max-width: 0;overflow: hidden;text-align: left;background-color: #f0f8ff;}#sk-container-id-1 div.sk-toggleable__content pre {margin: 0.2em;color: black;border-radius: 0.25em;background-color: #f0f8ff;}#sk-container-id-1 input.sk-toggleable__control:checked~div.sk-toggleable__content {max-height: 200px;max-width: 100%;overflow: auto;}#sk-container-id-1 input.sk-toggleable__control:checked~label.sk-toggleable__label-arrow:before {content: \"▾\";}#sk-container-id-1 div.sk-estimator input.sk-toggleable__control:checked~label.sk-toggleable__label {background-color: #d4ebff;}#sk-container-id-1 div.sk-label input.sk-toggleable__control:checked~label.sk-toggleable__label {background-color: #d4ebff;}#sk-container-id-1 input.sk-hidden--visually {border: 0;clip: rect(1px 1px 1px 1px);clip: rect(1px, 1px, 1px, 1px);height: 1px;margin: -1px;overflow: hidden;padding: 0;position: absolute;width: 1px;}#sk-container-id-1 div.sk-estimator {font-family: monospace;background-color: #f0f8ff;border: 1px dotted black;border-radius: 0.25em;box-sizing: border-box;margin-bottom: 0.5em;}#sk-container-id-1 div.sk-estimator:hover {background-color: #d4ebff;}#sk-container-id-1 div.sk-parallel-item::after {content: \"\";width: 100%;border-bottom: 1px solid gray;flex-grow: 1;}#sk-container-id-1 div.sk-label:hover label.sk-toggleable__label {background-color: #d4ebff;}#sk-container-id-1 div.sk-serial::before {content: \"\";position: absolute;border-left: 1px solid gray;box-sizing: border-box;top: 0;bottom: 0;left: 50%;z-index: 0;}#sk-container-id-1 div.sk-serial {display: flex;flex-direction: column;align-items: center;background-color: white;padding-right: 0.2em;padding-left: 0.2em;position: relative;}#sk-container-id-1 div.sk-item {position: relative;z-index: 1;}#sk-container-id-1 div.sk-parallel {display: flex;align-items: stretch;justify-content: center;background-color: white;position: relative;}#sk-container-id-1 div.sk-item::before, #sk-container-id-1 div.sk-parallel-item::before {content: \"\";position: absolute;border-left: 1px solid gray;box-sizing: border-box;top: 0;bottom: 0;left: 50%;z-index: -1;}#sk-container-id-1 div.sk-parallel-item {display: flex;flex-direction: column;z-index: 1;position: relative;background-color: white;}#sk-container-id-1 div.sk-parallel-item:first-child::after {align-self: flex-end;width: 50%;}#sk-container-id-1 div.sk-parallel-item:last-child::after {align-self: flex-start;width: 50%;}#sk-container-id-1 div.sk-parallel-item:only-child::after {width: 0;}#sk-container-id-1 div.sk-dashed-wrapped {border: 1px dashed gray;margin: 0 0.4em 0.5em 0.4em;box-sizing: border-box;padding-bottom: 0.4em;background-color: white;}#sk-container-id-1 div.sk-label label {font-family: monospace;font-weight: bold;display: inline-block;line-height: 1.2em;}#sk-container-id-1 div.sk-label-container {text-align: center;}#sk-container-id-1 div.sk-container {/* jupyter's `normalize.less` sets `[hidden] { display: none; }` but bootstrap.min.css set `[hidden] { display: none !important; }` so we also need the `!important` here to be able to override the default hidden behavior on the sphinx rendered scikit-learn.org. See: https://github.com/scikit-learn/scikit-learn/issues/21755 */display: inline-block !important;position: relative;}#sk-container-id-1 div.sk-text-repr-fallback {display: none;}</style><div id=\"sk-container-id-1\" class=\"sk-top-container\"><div class=\"sk-text-repr-fallback\"><pre>SVC(C=10000)</pre><b>In a Jupyter environment, please rerun this cell to show the HTML representation or trust the notebook. <br />On GitHub, the HTML representation is unable to render, please try loading this page with nbviewer.org.</b></div><div class=\"sk-container\" hidden><div class=\"sk-item\"><div class=\"sk-estimator sk-toggleable\"><input class=\"sk-toggleable__control sk-hidden--visually\" id=\"sk-estimator-id-1\" type=\"checkbox\" checked><label for=\"sk-estimator-id-1\" class=\"sk-toggleable__label sk-toggleable__label-arrow\">SVC</label><div class=\"sk-toggleable__content\"><pre>SVC(C=10000)</pre></div></div></div></div></div>"
            ]
          },
          "metadata": {},
          "execution_count": 34
        }
      ]
    },
    {
      "cell_type": "markdown",
      "source": [
        "#calc the accuracy"
      ],
      "metadata": {
        "id": "40QkfAlEIlir"
      }
    },
    {
      "cell_type": "code",
      "source": [
        "TrainSVMScoreCNN=svm.score(Extracted_features,np.argmax(y_train_encoded,axis=1))*100\n",
        "print(\"SVM Training Accuracy Score:-\",TrainSVMScoreCNN)"
      ],
      "metadata": {
        "colab": {
          "base_uri": "https://localhost:8080/"
        },
        "id": "jVII-RqZIkeM",
        "outputId": "f19326cf-909b-44e0-c636-cb4c8b18fdba"
      },
      "execution_count": null,
      "outputs": [
        {
          "output_type": "stream",
          "name": "stdout",
          "text": [
            "SVM Training Accuracy Score:- 99.71639950678176\n"
          ]
        }
      ]
    },
    {
      "cell_type": "markdown",
      "source": [
        "#Evaluation the SVM"
      ],
      "metadata": {
        "id": "i9UTrJZIImU5"
      }
    },
    {
      "cell_type": "code",
      "source": [
        "Extracted_features_t=out_t[hidden_probe] #from the forth hidden layer"
      ],
      "metadata": {
        "id": "4xDYn4DNIkhF"
      },
      "execution_count": null,
      "outputs": []
    },
    {
      "cell_type": "code",
      "source": [
        "print(Extracted_features_t.shape)\n",
        "print(y_test_encoded.shape)"
      ],
      "metadata": {
        "colab": {
          "base_uri": "https://localhost:8080/"
        },
        "id": "YcWyJLugM34w",
        "outputId": "a5e689e4-0b32-4274-8a26-dd8bb25fe678"
      },
      "execution_count": null,
      "outputs": [
        {
          "output_type": "stream",
          "name": "stdout",
          "text": [
            "(8730, 1, 32)\n",
            "(8735, 1, 3)\n"
          ]
        }
      ]
    },
    {
      "cell_type": "code",
      "source": [
        "#solve the missmatch between the Extracted_features_t and the y_test_encoded\n",
        "y_test_encoded=y_test_encoded[:-5]"
      ],
      "metadata": {
        "id": "4h6Uh6BHM9HO"
      },
      "execution_count": null,
      "outputs": []
    },
    {
      "cell_type": "code",
      "source": [
        "#reshape the Extracted_features_t and the y_test for evaluation the SVM\n",
        "Extracted_features_t=Extracted_features_t.reshape(8730, 32)\n",
        "y_test_encoded=y_test_encoded.reshape(8730, 3)"
      ],
      "metadata": {
        "id": "keG1EQuDI1KE"
      },
      "execution_count": null,
      "outputs": []
    },
    {
      "cell_type": "code",
      "source": [
        "TestSVMScoreCNN=svm.score(Extracted_features_t,np.argmax(y_test_encoded,axis=1))*100\n",
        "print(\"\\nSVM Testing Accuracy Score:-\",TestSVMScoreCNN)"
      ],
      "metadata": {
        "colab": {
          "base_uri": "https://localhost:8080/"
        },
        "id": "FxHRdloEJGj4",
        "outputId": "8bfecccc-bdd5-4b31-c97e-e06af5c3c83a"
      },
      "execution_count": null,
      "outputs": [
        {
          "output_type": "stream",
          "name": "stdout",
          "text": [
            "\n",
            "SVM Testing Accuracy Score:- 97.52577319587628\n"
          ]
        }
      ]
    },
    {
      "cell_type": "code",
      "source": [],
      "metadata": {
        "id": "0hLMkbQDKswA"
      },
      "execution_count": null,
      "outputs": []
    }
  ]
}